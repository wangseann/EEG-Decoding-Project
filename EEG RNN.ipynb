{
 "cells": [
  {
   "cell_type": "markdown",
   "id": "75cb6f34-3242-409e-861b-7ac3c3c49efe",
   "metadata": {},
   "source": [
    "EEG Turkish Sentence Decoding using Deep Learning project\n",
    "\n",
    "Dataset link: https://www.kaggle.com/datasets/mehmetbayin/turkish-sentence-eeg-dataset\n",
    "\n",
    "    - Reading Demonstration Set: 15-second 14-channel EEG signals recorded from 20 volunteers\n",
    "    \n",
    "    - Reading Listening Set: 15-second 14-channel EEG signals recorded from 20 volunteers\n",
    "    \n",
    "    - EMOTIV EPOC+ mobile system \n",
    "        - collected 14-channel EEG signals from 16 scalp zones: AF3 (1), F7 (2), F3 (3), FC5 (4), T7 (5), P7 (6), O1 (7), O2 (8), P8 - (9), T8 (10), FC6 (11), F4 (12), F8 (13), AF4 (14), P3 (reference zone), and P4 (reference zone)\n",
    "        - sampling rate 128 Hz, bandwidth 0.16-43 Hz\n",
    "        - dataset contains 1600 observations and 1600 labels\n",
    "        - .mat file"
   ]
  },
  {
   "cell_type": "markdown",
   "id": "41a3d598-aafe-4551-b624-1e43b97c96fb",
   "metadata": {},
   "source": [
    "Methodology:\n",
    "    - may require transfer learning in a multi classifcation setting (https://www.ncbi.nlm.nih.gov/pmc/articles/PMC10400490/)\n",
    "    - RNN architecture (LSTM) are very good for EEG data as they are designed to process sequences of data, making them suitable for time-series EEG data. They also capture long-term dependencies in the EEG signals"
   ]
  },
  {
   "cell_type": "code",
   "execution_count": null,
   "id": "0353e2db-2f8e-44bd-a3eb-d57298679652",
   "metadata": {},
   "outputs": [],
   "source": [
    "from scipy.io import loadmat\n",
    "import numpy as np\n",
    "import pandas as pd\n",
    "#loading eeg data as a .mat file\n",
    "eeg_data = loadmat('data/TurkishSentenceEEGData.mat')\n"
   ]
  },
  {
   "cell_type": "code",
   "execution_count": null,
   "id": "82b81b02-e0f0-48c1-b2a8-4a55007963c2",
   "metadata": {},
   "outputs": [],
   "source": [
    "eeg_data"
   ]
  },
  {
   "cell_type": "code",
   "execution_count": null,
   "id": "d0cf569e-fa70-4a56-997b-2891ac4ad012",
   "metadata": {},
   "outputs": [],
   "source": [
    "len(eeg_data)"
   ]
  },
  {
   "cell_type": "code",
   "execution_count": null,
   "id": "485d01dd-b6c5-493e-ad95-2e7031a1dc5e",
   "metadata": {},
   "outputs": [],
   "source": [
    "eeg_data.keys()"
   ]
  },
  {
   "cell_type": "code",
   "execution_count": null,
   "id": "a2e51d3b-4f65-42c5-90a2-62713b466eaa",
   "metadata": {},
   "outputs": [],
   "source": [
    "eeg_data.values()"
   ]
  },
  {
   "cell_type": "code",
   "execution_count": null,
   "id": "a29ff418-fc69-4dc1-9825-63560ad08d47",
   "metadata": {},
   "outputs": [],
   "source": [
    "#how many values are in each label\n",
    "labels_array = eeg_data['Labels']\n",
    "unique_values, counts = np.unique(labels_array, return_counts=True)\n",
    "value_counts_dict = dict(zip(unique_values, counts))\n",
    "value_counts_dict"
   ]
  },
  {
   "cell_type": "code",
   "execution_count": null,
   "id": "4e20a35c-a39e-4405-aff4-4cac892ec59c",
   "metadata": {},
   "outputs": [],
   "source": [
    "# Inspect the keys and structure of the loaded data\n",
    "observations = eeg_data['Observations']\n",
    "labels = eeg_data['Labels'].ravel()"
   ]
  },
  {
   "cell_type": "code",
   "execution_count": null,
   "id": "68a0a6dc-fc47-4eda-b39b-cd0f0745c4af",
   "metadata": {},
   "outputs": [],
   "source": [
    "demonstration_data = observations[:800]\n",
    "listening_data = observations[800:]\n",
    "demonstration_labels = labels[:800]\n",
    "listening_labels = labels[800:]\n"
   ]
  },
  {
   "cell_type": "code",
   "execution_count": null,
   "id": "86aff0f9-19df-4f91-bb96-024f4a58a3fe",
   "metadata": {},
   "outputs": [],
   "source": [
    "# Convert the 2D arrays in demonstration_data and listening_data to lists\n",
    "demonstration_data_list = [obs.tolist() for obs in demonstration_data]\n",
    "listening_data_list = [obs.tolist() for obs in listening_data]"
   ]
  },
  {
   "cell_type": "code",
   "execution_count": null,
   "id": "6392b3dd-7222-4fe0-aab2-dd79e7ec5e0a",
   "metadata": {},
   "outputs": [],
   "source": [
    "# Convert to Pandas DataFrame\n",
    "demo_df = pd.DataFrame({'EEG_Data': demonstration_data_list, 'Label': demonstration_labels})\n",
    "listen_df = pd.DataFrame({'EEG_Data': listening_data_list, 'Label': listening_labels})"
   ]
  },
  {
   "cell_type": "code",
   "execution_count": null,
   "id": "e183d90c-6a38-494c-8b83-a2773d9dad0c",
   "metadata": {},
   "outputs": [],
   "source": [
    "demo_df\n"
   ]
  },
  {
   "cell_type": "code",
   "execution_count": null,
   "id": "fc605fab-412a-48ae-8855-7f6309340dec",
   "metadata": {},
   "outputs": [],
   "source": [
    "listen_df"
   ]
  },
  {
   "cell_type": "code",
   "execution_count": null,
   "id": "a8c84939-e94f-4259-8fd5-341695130947",
   "metadata": {},
   "outputs": [],
   "source": [
    "#check for missing values\n",
    "print(\"Missing values in demo_df:\", demo_df.isnull().sum())\n",
    "print(\"Missing values in listen_df:\", listen_df.isnull().sum())"
   ]
  },
  {
   "cell_type": "code",
   "execution_count": null,
   "id": "c715f6b7-153a-472b-9d10-3140f454c42e",
   "metadata": {},
   "outputs": [],
   "source": [
    "#normalize EEG data to zero mean and unit variance using StandardScaler\n",
    "from sklearn.preprocessing import StandardScaler\n",
    "\n",
    "def normalize_eeg_data_2d(eeg_2d_list):\n",
    "    \"\"\"\n",
    "    Normalize each 2D EEG data in the list.\n",
    "    \"\"\"\n",
    "    scaler = StandardScaler()\n",
    "    return [scaler.fit_transform(eeg_matrix) for eeg_matrix in eeg_2d_list]"
   ]
  },
  {
   "cell_type": "code",
   "execution_count": null,
   "id": "cf7f4287-6673-4112-acec-8b7d24ac6ea6",
   "metadata": {},
   "outputs": [],
   "source": [
    "#apply normalization \n",
    "demo_df['EEG_Data'] = demo_df['EEG_Data'].apply(normalize_eeg_data_2d)\n",
    "listen_df['EEG_Data'] = listen_df['EEG_Data'].apply(normalize_eeg_data_2d)"
   ]
  },
  {
   "cell_type": "code",
   "execution_count": null,
   "id": "a1a75ba0-65ff-430c-be52-e76ff243acd6",
   "metadata": {},
   "outputs": [],
   "source": [
    "# Convert to a numpy array\n",
    "demo_data_array = np.array(demo_df['EEG_Data'].tolist())\n",
    "listen_data_array = np.array(listen_df['EEG_Data'].tolist())\n",
    "\n",
    "print(\"Shape of demo_data_array:\", demo_data_array.shape)\n",
    "print(\"Shape of listen_data_array:\", listen_data_array.shape)"
   ]
  },
  {
   "cell_type": "code",
   "execution_count": null,
   "id": "d2027a63-1a9d-4e93-b6f0-44d2badd8830",
   "metadata": {},
   "outputs": [],
   "source": [
    "# Removing the unnecessary dimension to fit (number_of_samples, channels, time_points).\n",
    "demo_data_reshaped = np.squeeze(demo_data_array)\n",
    "listen_data_reshaped = np.squeeze(listen_data_array)\n",
    "\n",
    "print(\"Shape of demo_data_reshaped:\", demo_data_reshaped.shape)\n",
    "print(\"Shape of listen_data_reshaped:\", listen_data_reshaped.shape)"
   ]
  },
  {
   "cell_type": "code",
   "execution_count": null,
   "id": "e70d8f00-51bc-4cf9-a8a0-96064012dcf3",
   "metadata": {},
   "outputs": [],
   "source": [
    "# now split the data into training and test splits for model training and validation \n",
    "from sklearn.model_selection import train_test_split"
   ]
  },
  {
   "cell_type": "code",
   "execution_count": null,
   "id": "c43f5835-d230-4103-881f-c0501f9de22a",
   "metadata": {},
   "outputs": [],
   "source": [
    "    \"\"\"\n",
    "    Args:\n",
    "    - X: The features (EEG data).\n",
    "    - y: The labels.\n",
    "    - test_size: Proportion of the dataset to include in the test split.\n",
    "    - val_size: Proportion of the dataset to include in the validation split (from the training set).\n",
    "    \n",
    "    Returns:\n",
    "    - X_train, y_train: Training data and labels.\n",
    "    - X_val, y_val: Validation data and labels.\n",
    "    - X_test, y_test: Test data and labels.\n",
    "    \"\"\"\n",
    "\n",
    "def split_data(X, y, test_size=0.2, val_size=0.25):\n",
    "        X_temp, X_test, y_temp, y_test = train_test_split(X, y, test_size=test_size, random_state=42)\n",
    "        X_train, X_val, y_train, y_val = train_test_split(X_temp, y_temp, test_size=val_size, random_state=42)\n",
    "        return X_train, y_train, X_val, y_val, X_test, y_test\n",
    "\n",
    "demo_labels = demo_df['Label'].values\n",
    "listen_labels = listen_df['Label'].values\n",
    "\n",
    "demo_X_train, demo_y_train, demo_X_val, demo_y_val, demo_X_test, demo_y_test = split_data(demo_data_reshaped, demo_labels)\n",
    "listen_X_train, listen_y_train, listen_X_val, listen_y_val, listen_X_test, listen_y_test = split_data(listen_data_reshaped, listen_labels)\n",
    "\n",
    "print(\"Demo Training Data Shape:\", demo_X_train.shape)\n",
    "print(\"Demo Validation Data Shape:\", demo_X_val.shape)\n",
    "print(\"Demo Test Data Shape:\", demo_X_test.shape)\n",
    "print(\"\\nListening Training Data Shape:\", listen_X_train.shape)\n",
    "print(\"Listening Validation Data Shape:\", listen_X_val.shape)\n",
    "print(\"Listening Test Data Shape:\", listen_X_test.shape)\n"
   ]
  },
  {
   "cell_type": "code",
   "execution_count": null,
   "id": "71233e01-57e5-4d8c-a526-1c31e3198fed",
   "metadata": {},
   "outputs": [],
   "source": []
  }
 ],
 "metadata": {
  "kernelspec": {
   "display_name": "Python 3 (ipykernel)",
   "language": "python",
   "name": "python3"
  },
  "language_info": {
   "codemirror_mode": {
    "name": "ipython",
    "version": 3
   },
   "file_extension": ".py",
   "mimetype": "text/x-python",
   "name": "python",
   "nbconvert_exporter": "python",
   "pygments_lexer": "ipython3",
   "version": "3.11.4"
  }
 },
 "nbformat": 4,
 "nbformat_minor": 5
}
