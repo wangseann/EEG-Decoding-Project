{
 "cells": [
  {
   "cell_type": "markdown",
   "id": "75cb6f34-3242-409e-861b-7ac3c3c49efe",
   "metadata": {},
   "source": [
    "EEG Turkish Sentence Decoding using Deep Learning project\n",
    "\n",
    "Dataset link: https://www.kaggle.com/datasets/mehmetbayin/turkish-sentence-eeg-dataset\n",
    "\n",
    "    - Reading Demonstration Set: 15-second 14-channel EEG signals recorded from 20 volunteers\n",
    "    \n",
    "    - Reading Listening Set: 15-second 14-channel EEG signals recorded from 20 volunteers\n",
    "    \n",
    "    - EMOTIV EPOC+ mobile system \n",
    "        - collected 14-channel EEG signals from 16 scalp zones: AF3 (1), F7 (2), F3 (3), FC5 (4), T7 (5), P7 (6), O1 (7), O2 (8), P8 - (9), T8 (10), FC6 (11), F4 (12), F8 (13), AF4 (14), P3 (reference zone), and P4 (reference zone)\n",
    "        - sampling rate 128 Hz, bandwidth 0.16-43 Hz\n",
    "        - dataset contains 1600 observations and 1600 labels\n",
    "        - .mat file"
   ]
  },
  {
   "cell_type": "markdown",
   "id": "41a3d598-aafe-4551-b624-1e43b97c96fb",
   "metadata": {},
   "source": [
    "Methodology:\n",
    "    - may require transfer learning in a multi classifcation setting (https://www.ncbi.nlm.nih.gov/pmc/articles/PMC10400490/)\n",
    "    - RNN architecture (LSTM) are very good for EEG data as they are designed to process sequences of data, making them suitable for time-series EEG data. They also capture long-term dependencies in the EEG signals"
   ]
  },
  {
   "cell_type": "code",
   "execution_count": 1,
   "id": "0353e2db-2f8e-44bd-a3eb-d57298679652",
   "metadata": {},
   "outputs": [],
   "source": [
    "from scipy.io import loadmat\n",
    "import numpy as np\n",
    "import pandas as pd\n",
    "#loading eeg data as a .mat file\n",
    "eeg_data = loadmat('data/TurkishSentenceEEGData.mat')\n"
   ]
  },
  {
   "cell_type": "code",
   "execution_count": 2,
   "id": "82b81b02-e0f0-48c1-b2a8-4a55007963c2",
   "metadata": {},
   "outputs": [
    {
     "data": {
      "text/plain": [
       "{'__header__': b'MATLAB 5.0 MAT-file, Platform: PCWIN64, Created on: Mon Jul 11 23:18:14 2022',\n",
       " '__version__': '1.0',\n",
       " '__globals__': [],\n",
       " 'Labels': array([[ 1],\n",
       "        [ 1],\n",
       "        [ 1],\n",
       "        ...,\n",
       "        [20],\n",
       "        [20],\n",
       "        [20]], dtype=uint8),\n",
       " 'Observations': array([[array([[4387.307617, 4396.410156, 4389.743652, ..., 4395.128418,\n",
       "                 4393.333496, 4395.769043],\n",
       "                [4378.589844, 4384.358887, 4382.05127 , ..., 4399.358887,\n",
       "                 4391.538574, 4393.077148],\n",
       "                [4398.077148, 4400.512695, 4396.538574, ..., 4399.615234,\n",
       "                 4397.179688, 4399.615234],\n",
       "                ...,\n",
       "                [4539.102539, 4542.692383, 4540.641113, ..., 4548.077148,\n",
       "                 4547.05127 , 4550.897461],\n",
       "                [4396.282227, 4401.025879, 4398.974121, ..., 4427.436035,\n",
       "                 4427.820313, 4427.179688],\n",
       "                [4445.128418, 4445.897461, 4445.769043, ..., 4460.641113,\n",
       "                 4456.410156, 4457.563965]])                             ],\n",
       "        [array([[4426.538574, 4424.358887, 4433.589844, ..., 4378.077148,\n",
       "                 4371.922852, 4374.615234],\n",
       "                [4407.692383, 4405.769043, 4406.025879, ..., 4379.358887,\n",
       "                 4381.282227, 4375.769043],\n",
       "                [4402.05127 , 4400.256348, 4412.692383, ..., 4367.820313,\n",
       "                 4366.666504, 4368.589844],\n",
       "                ...,\n",
       "                [4585.128418, 4581.794922, 4586.410156, ..., 4509.615234,\n",
       "                 4506.025879, 4508.333496],\n",
       "                [4534.743652, 4536.025879, 4538.205078, ..., 4396.410156,\n",
       "                 4391.410156, 4389.230957],\n",
       "                [4488.846191, 4493.333496, 4503.717773, ..., 4429.102539,\n",
       "                 4424.358887, 4419.487305]])                             ],\n",
       "        [array([[4368.717773, 4364.102539, 4365.128418, ..., 4362.692383,\n",
       "                 4377.563965, 4382.94873 ],\n",
       "                [4374.743652, 4361.666504, 4358.974121, ..., 4371.666504,\n",
       "                 4391.538574, 4397.820313],\n",
       "                [4361.025879, 4351.794922, 4356.666504, ..., 4355.897461,\n",
       "                 4374.743652, 4378.077148],\n",
       "                ...,\n",
       "                [4530.769043, 4525.      , 4524.487305, ..., 4517.820313,\n",
       "                 4526.922852, 4538.461426],\n",
       "                [4414.358887, 4410.128418, 4403.205078, ..., 4392.94873 ,\n",
       "                 4404.487305, 4413.846191],\n",
       "                [4435.897461, 4429.615234, 4428.717773, ..., 4423.461426,\n",
       "                 4427.692383, 4438.077148]])                             ],\n",
       "        ...,\n",
       "        [array([[4356.922852, 4356.153809, 4357.307617, ..., 4329.102539,\n",
       "                 4330.512695, 4345.769043],\n",
       "                [4363.717773, 4368.333496, 4366.153809, ..., 4327.820313,\n",
       "                 4330.384766, 4346.922852],\n",
       "                [4367.436035, 4365.512695, 4364.102539, ..., 4333.589844,\n",
       "                 4331.794922, 4352.94873 ],\n",
       "                ...,\n",
       "                [4525.641113, 4528.205078, 4524.102539, ..., 4493.846191,\n",
       "                 4500.641113, 4520.256348],\n",
       "                [4414.230957, 4416.282227, 4417.436035, ..., 4385.897461,\n",
       "                 4393.077148, 4399.615234],\n",
       "                [4458.333496, 4459.358887, 4456.282227, ..., 4428.333496,\n",
       "                 4432.692383, 4443.717773]])                             ],\n",
       "        [array([[4346.282227, 4352.179688, 4356.153809, ..., 4362.307617,\n",
       "                 4361.410156, 4355.256348],\n",
       "                [4336.025879, 4344.358887, 4340.256348, ..., 4334.871582,\n",
       "                 4327.94873 , 4322.692383],\n",
       "                [4348.461426, 4341.153809, 4343.205078, ..., 4355.      ,\n",
       "                 4363.333496, 4364.615234],\n",
       "                ...,\n",
       "                [4514.871582, 4515.      , 4524.358887, ..., 4538.974121,\n",
       "                 4541.922852, 4548.333496],\n",
       "                [4379.615234, 4418.846191, 4438.205078, ..., 4464.487305,\n",
       "                 4467.820313, 4461.666504],\n",
       "                [4441.538574, 4446.153809, 4453.077148, ..., 4459.615234,\n",
       "                 4467.692383, 4467.820313]])                             ],\n",
       "        [array([[4347.307617, 4342.563965, 4344.358887, ..., 4344.230957,\n",
       "                 4342.692383, 4348.974121],\n",
       "                [4336.410156, 4334.871582, 4333.846191, ..., 4349.102539,\n",
       "                 4349.871582, 4345.512695],\n",
       "                [4360.769043, 4354.230957, 4361.282227, ..., 4361.025879,\n",
       "                 4359.230957, 4365.256348],\n",
       "                ...,\n",
       "                [4498.077148, 4501.153809, 4502.436035, ..., 4483.589844,\n",
       "                 4490.512695, 4496.025879],\n",
       "                [4410.384766, 4404.743652, 4397.563965, ..., 4376.153809,\n",
       "                 4373.333496, 4372.692383],\n",
       "                [4454.615234, 4447.563965, 4445.512695, ..., 4436.538574,\n",
       "                 4442.94873 , 4442.692383]])                             ]],\n",
       "       dtype=object)}"
      ]
     },
     "execution_count": 2,
     "metadata": {},
     "output_type": "execute_result"
    }
   ],
   "source": [
    "eeg_data"
   ]
  },
  {
   "cell_type": "code",
   "execution_count": 3,
   "id": "d0cf569e-fa70-4a56-997b-2891ac4ad012",
   "metadata": {},
   "outputs": [
    {
     "data": {
      "text/plain": [
       "5"
      ]
     },
     "execution_count": 3,
     "metadata": {},
     "output_type": "execute_result"
    }
   ],
   "source": [
    "len(eeg_data)"
   ]
  },
  {
   "cell_type": "code",
   "execution_count": 4,
   "id": "485d01dd-b6c5-493e-ad95-2e7031a1dc5e",
   "metadata": {},
   "outputs": [
    {
     "data": {
      "text/plain": [
       "dict_keys(['__header__', '__version__', '__globals__', 'Labels', 'Observations'])"
      ]
     },
     "execution_count": 4,
     "metadata": {},
     "output_type": "execute_result"
    }
   ],
   "source": [
    "eeg_data.keys()"
   ]
  },
  {
   "cell_type": "code",
   "execution_count": 5,
   "id": "a2e51d3b-4f65-42c5-90a2-62713b466eaa",
   "metadata": {},
   "outputs": [
    {
     "data": {
      "text/plain": [
       "dict_values([b'MATLAB 5.0 MAT-file, Platform: PCWIN64, Created on: Mon Jul 11 23:18:14 2022', '1.0', [], array([[ 1],\n",
       "       [ 1],\n",
       "       [ 1],\n",
       "       ...,\n",
       "       [20],\n",
       "       [20],\n",
       "       [20]], dtype=uint8), array([[array([[4387.307617, 4396.410156, 4389.743652, ..., 4395.128418,\n",
       "                4393.333496, 4395.769043],\n",
       "               [4378.589844, 4384.358887, 4382.05127 , ..., 4399.358887,\n",
       "                4391.538574, 4393.077148],\n",
       "               [4398.077148, 4400.512695, 4396.538574, ..., 4399.615234,\n",
       "                4397.179688, 4399.615234],\n",
       "               ...,\n",
       "               [4539.102539, 4542.692383, 4540.641113, ..., 4548.077148,\n",
       "                4547.05127 , 4550.897461],\n",
       "               [4396.282227, 4401.025879, 4398.974121, ..., 4427.436035,\n",
       "                4427.820313, 4427.179688],\n",
       "               [4445.128418, 4445.897461, 4445.769043, ..., 4460.641113,\n",
       "                4456.410156, 4457.563965]])                             ],\n",
       "       [array([[4426.538574, 4424.358887, 4433.589844, ..., 4378.077148,\n",
       "                4371.922852, 4374.615234],\n",
       "               [4407.692383, 4405.769043, 4406.025879, ..., 4379.358887,\n",
       "                4381.282227, 4375.769043],\n",
       "               [4402.05127 , 4400.256348, 4412.692383, ..., 4367.820313,\n",
       "                4366.666504, 4368.589844],\n",
       "               ...,\n",
       "               [4585.128418, 4581.794922, 4586.410156, ..., 4509.615234,\n",
       "                4506.025879, 4508.333496],\n",
       "               [4534.743652, 4536.025879, 4538.205078, ..., 4396.410156,\n",
       "                4391.410156, 4389.230957],\n",
       "               [4488.846191, 4493.333496, 4503.717773, ..., 4429.102539,\n",
       "                4424.358887, 4419.487305]])                             ],\n",
       "       [array([[4368.717773, 4364.102539, 4365.128418, ..., 4362.692383,\n",
       "                4377.563965, 4382.94873 ],\n",
       "               [4374.743652, 4361.666504, 4358.974121, ..., 4371.666504,\n",
       "                4391.538574, 4397.820313],\n",
       "               [4361.025879, 4351.794922, 4356.666504, ..., 4355.897461,\n",
       "                4374.743652, 4378.077148],\n",
       "               ...,\n",
       "               [4530.769043, 4525.      , 4524.487305, ..., 4517.820313,\n",
       "                4526.922852, 4538.461426],\n",
       "               [4414.358887, 4410.128418, 4403.205078, ..., 4392.94873 ,\n",
       "                4404.487305, 4413.846191],\n",
       "               [4435.897461, 4429.615234, 4428.717773, ..., 4423.461426,\n",
       "                4427.692383, 4438.077148]])                             ],\n",
       "       ...,\n",
       "       [array([[4356.922852, 4356.153809, 4357.307617, ..., 4329.102539,\n",
       "                4330.512695, 4345.769043],\n",
       "               [4363.717773, 4368.333496, 4366.153809, ..., 4327.820313,\n",
       "                4330.384766, 4346.922852],\n",
       "               [4367.436035, 4365.512695, 4364.102539, ..., 4333.589844,\n",
       "                4331.794922, 4352.94873 ],\n",
       "               ...,\n",
       "               [4525.641113, 4528.205078, 4524.102539, ..., 4493.846191,\n",
       "                4500.641113, 4520.256348],\n",
       "               [4414.230957, 4416.282227, 4417.436035, ..., 4385.897461,\n",
       "                4393.077148, 4399.615234],\n",
       "               [4458.333496, 4459.358887, 4456.282227, ..., 4428.333496,\n",
       "                4432.692383, 4443.717773]])                             ],\n",
       "       [array([[4346.282227, 4352.179688, 4356.153809, ..., 4362.307617,\n",
       "                4361.410156, 4355.256348],\n",
       "               [4336.025879, 4344.358887, 4340.256348, ..., 4334.871582,\n",
       "                4327.94873 , 4322.692383],\n",
       "               [4348.461426, 4341.153809, 4343.205078, ..., 4355.      ,\n",
       "                4363.333496, 4364.615234],\n",
       "               ...,\n",
       "               [4514.871582, 4515.      , 4524.358887, ..., 4538.974121,\n",
       "                4541.922852, 4548.333496],\n",
       "               [4379.615234, 4418.846191, 4438.205078, ..., 4464.487305,\n",
       "                4467.820313, 4461.666504],\n",
       "               [4441.538574, 4446.153809, 4453.077148, ..., 4459.615234,\n",
       "                4467.692383, 4467.820313]])                             ],\n",
       "       [array([[4347.307617, 4342.563965, 4344.358887, ..., 4344.230957,\n",
       "                4342.692383, 4348.974121],\n",
       "               [4336.410156, 4334.871582, 4333.846191, ..., 4349.102539,\n",
       "                4349.871582, 4345.512695],\n",
       "               [4360.769043, 4354.230957, 4361.282227, ..., 4361.025879,\n",
       "                4359.230957, 4365.256348],\n",
       "               ...,\n",
       "               [4498.077148, 4501.153809, 4502.436035, ..., 4483.589844,\n",
       "                4490.512695, 4496.025879],\n",
       "               [4410.384766, 4404.743652, 4397.563965, ..., 4376.153809,\n",
       "                4373.333496, 4372.692383],\n",
       "               [4454.615234, 4447.563965, 4445.512695, ..., 4436.538574,\n",
       "                4442.94873 , 4442.692383]])                             ]],\n",
       "      dtype=object)])"
      ]
     },
     "execution_count": 5,
     "metadata": {},
     "output_type": "execute_result"
    }
   ],
   "source": [
    "eeg_data.values()"
   ]
  },
  {
   "cell_type": "code",
   "execution_count": 6,
   "id": "a29ff418-fc69-4dc1-9825-63560ad08d47",
   "metadata": {},
   "outputs": [
    {
     "data": {
      "text/plain": [
       "{1: 80,\n",
       " 2: 80,\n",
       " 3: 80,\n",
       " 4: 80,\n",
       " 5: 80,\n",
       " 6: 82,\n",
       " 7: 80,\n",
       " 8: 79,\n",
       " 9: 80,\n",
       " 10: 80,\n",
       " 11: 79,\n",
       " 12: 80,\n",
       " 13: 80,\n",
       " 14: 80,\n",
       " 15: 80,\n",
       " 16: 80,\n",
       " 17: 80,\n",
       " 18: 80,\n",
       " 19: 81,\n",
       " 20: 79}"
      ]
     },
     "execution_count": 6,
     "metadata": {},
     "output_type": "execute_result"
    }
   ],
   "source": [
    "#how many values are in each label\n",
    "labels_array = eeg_data['Labels']\n",
    "unique_values, counts = np.unique(labels_array, return_counts=True)\n",
    "value_counts_dict = dict(zip(unique_values, counts))\n",
    "value_counts_dict"
   ]
  },
  {
   "cell_type": "code",
   "execution_count": 7,
   "id": "4e20a35c-a39e-4405-aff4-4cac892ec59c",
   "metadata": {},
   "outputs": [],
   "source": [
    "# Inspect the keys and structure of the loaded data\n",
    "observations = eeg_data['Observations']\n",
    "labels = eeg_data['Labels'].ravel()"
   ]
  },
  {
   "cell_type": "code",
   "execution_count": 8,
   "id": "68a0a6dc-fc47-4eda-b39b-cd0f0745c4af",
   "metadata": {},
   "outputs": [],
   "source": [
    "demonstration_data = observations[:800]\n",
    "listening_data = observations[800:]\n",
    "demonstration_labels = labels[:800]\n",
    "listening_labels = labels[800:]\n"
   ]
  },
  {
   "cell_type": "code",
   "execution_count": 9,
   "id": "86aff0f9-19df-4f91-bb96-024f4a58a3fe",
   "metadata": {},
   "outputs": [],
   "source": [
    "# Convert the 2D arrays in demonstration_data and listening_data to lists\n",
    "demonstration_data_list = [obs.tolist() for obs in demonstration_data]\n",
    "listening_data_list = [obs.tolist() for obs in listening_data]"
   ]
  },
  {
   "cell_type": "code",
   "execution_count": 10,
   "id": "6392b3dd-7222-4fe0-aab2-dd79e7ec5e0a",
   "metadata": {},
   "outputs": [],
   "source": [
    "# Convert to Pandas DataFrame\n",
    "demo_df = pd.DataFrame({'EEG_Data': demonstration_data_list, 'Label': demonstration_labels})\n",
    "listen_df = pd.DataFrame({'EEG_Data': listening_data_list, 'Label': listening_labels})"
   ]
  },
  {
   "cell_type": "code",
   "execution_count": 11,
   "id": "e183d90c-6a38-494c-8b83-a2773d9dad0c",
   "metadata": {},
   "outputs": [
    {
     "data": {
      "text/html": [
       "<div>\n",
       "<style scoped>\n",
       "    .dataframe tbody tr th:only-of-type {\n",
       "        vertical-align: middle;\n",
       "    }\n",
       "\n",
       "    .dataframe tbody tr th {\n",
       "        vertical-align: top;\n",
       "    }\n",
       "\n",
       "    .dataframe thead th {\n",
       "        text-align: right;\n",
       "    }\n",
       "</style>\n",
       "<table border=\"1\" class=\"dataframe\">\n",
       "  <thead>\n",
       "    <tr style=\"text-align: right;\">\n",
       "      <th></th>\n",
       "      <th>EEG_Data</th>\n",
       "      <th>Label</th>\n",
       "    </tr>\n",
       "  </thead>\n",
       "  <tbody>\n",
       "    <tr>\n",
       "      <th>0</th>\n",
       "      <td>[[[4387.307617, 4396.410156, 4389.743652, 4378...</td>\n",
       "      <td>1</td>\n",
       "    </tr>\n",
       "    <tr>\n",
       "      <th>1</th>\n",
       "      <td>[[[4426.538574, 4424.358887, 4433.589844, 4440...</td>\n",
       "      <td>1</td>\n",
       "    </tr>\n",
       "    <tr>\n",
       "      <th>2</th>\n",
       "      <td>[[[4368.717773, 4364.102539, 4365.128418, 4366...</td>\n",
       "      <td>1</td>\n",
       "    </tr>\n",
       "    <tr>\n",
       "      <th>3</th>\n",
       "      <td>[[[4395.256348, 4390.0, 4387.692383, 4390.3847...</td>\n",
       "      <td>1</td>\n",
       "    </tr>\n",
       "    <tr>\n",
       "      <th>4</th>\n",
       "      <td>[[[4389.102539, 4398.077148, 4395.128418, 4394...</td>\n",
       "      <td>1</td>\n",
       "    </tr>\n",
       "    <tr>\n",
       "      <th>...</th>\n",
       "      <td>...</td>\n",
       "      <td>...</td>\n",
       "    </tr>\n",
       "    <tr>\n",
       "      <th>795</th>\n",
       "      <td>[[[4351.153809, 4335.512695, 4334.871582, 4349...</td>\n",
       "      <td>10</td>\n",
       "    </tr>\n",
       "    <tr>\n",
       "      <th>796</th>\n",
       "      <td>[[[4285.384766, 4278.077148, 4272.436035, 4271...</td>\n",
       "      <td>10</td>\n",
       "    </tr>\n",
       "    <tr>\n",
       "      <th>797</th>\n",
       "      <td>[[[4349.871582, 4345.641113, 4328.333496, 4328...</td>\n",
       "      <td>10</td>\n",
       "    </tr>\n",
       "    <tr>\n",
       "      <th>798</th>\n",
       "      <td>[[[4351.025879, 4361.282227, 4354.487305, 4347...</td>\n",
       "      <td>10</td>\n",
       "    </tr>\n",
       "    <tr>\n",
       "      <th>799</th>\n",
       "      <td>[[[4367.563965, 4351.922852, 4347.436035, 4357...</td>\n",
       "      <td>10</td>\n",
       "    </tr>\n",
       "  </tbody>\n",
       "</table>\n",
       "<p>800 rows × 2 columns</p>\n",
       "</div>"
      ],
      "text/plain": [
       "                                              EEG_Data  Label\n",
       "0    [[[4387.307617, 4396.410156, 4389.743652, 4378...      1\n",
       "1    [[[4426.538574, 4424.358887, 4433.589844, 4440...      1\n",
       "2    [[[4368.717773, 4364.102539, 4365.128418, 4366...      1\n",
       "3    [[[4395.256348, 4390.0, 4387.692383, 4390.3847...      1\n",
       "4    [[[4389.102539, 4398.077148, 4395.128418, 4394...      1\n",
       "..                                                 ...    ...\n",
       "795  [[[4351.153809, 4335.512695, 4334.871582, 4349...     10\n",
       "796  [[[4285.384766, 4278.077148, 4272.436035, 4271...     10\n",
       "797  [[[4349.871582, 4345.641113, 4328.333496, 4328...     10\n",
       "798  [[[4351.025879, 4361.282227, 4354.487305, 4347...     10\n",
       "799  [[[4367.563965, 4351.922852, 4347.436035, 4357...     10\n",
       "\n",
       "[800 rows x 2 columns]"
      ]
     },
     "execution_count": 11,
     "metadata": {},
     "output_type": "execute_result"
    }
   ],
   "source": [
    "demo_df\n"
   ]
  },
  {
   "cell_type": "code",
   "execution_count": 12,
   "id": "fc605fab-412a-48ae-8855-7f6309340dec",
   "metadata": {},
   "outputs": [
    {
     "data": {
      "text/html": [
       "<div>\n",
       "<style scoped>\n",
       "    .dataframe tbody tr th:only-of-type {\n",
       "        vertical-align: middle;\n",
       "    }\n",
       "\n",
       "    .dataframe tbody tr th {\n",
       "        vertical-align: top;\n",
       "    }\n",
       "\n",
       "    .dataframe thead th {\n",
       "        text-align: right;\n",
       "    }\n",
       "</style>\n",
       "<table border=\"1\" class=\"dataframe\">\n",
       "  <thead>\n",
       "    <tr style=\"text-align: right;\">\n",
       "      <th></th>\n",
       "      <th>EEG_Data</th>\n",
       "      <th>Label</th>\n",
       "    </tr>\n",
       "  </thead>\n",
       "  <tbody>\n",
       "    <tr>\n",
       "      <th>0</th>\n",
       "      <td>[[[4344.743652, 4346.410156, 4336.794922, 4325...</td>\n",
       "      <td>10</td>\n",
       "    </tr>\n",
       "    <tr>\n",
       "      <th>1</th>\n",
       "      <td>[[[4315.512695, 4308.205078, 4309.358887, 4314...</td>\n",
       "      <td>11</td>\n",
       "    </tr>\n",
       "    <tr>\n",
       "      <th>2</th>\n",
       "      <td>[[[4341.794922, 4335.128418, 4324.358887, 4333...</td>\n",
       "      <td>11</td>\n",
       "    </tr>\n",
       "    <tr>\n",
       "      <th>3</th>\n",
       "      <td>[[[4289.487305, 4295.769043, 4301.538574, 4298...</td>\n",
       "      <td>11</td>\n",
       "    </tr>\n",
       "    <tr>\n",
       "      <th>4</th>\n",
       "      <td>[[[4466.794922, 4470.641113, 4477.179688, 4477...</td>\n",
       "      <td>11</td>\n",
       "    </tr>\n",
       "    <tr>\n",
       "      <th>...</th>\n",
       "      <td>...</td>\n",
       "      <td>...</td>\n",
       "    </tr>\n",
       "    <tr>\n",
       "      <th>795</th>\n",
       "      <td>[[[4410.0, 4408.846191, 4403.589844, 4392.1796...</td>\n",
       "      <td>20</td>\n",
       "    </tr>\n",
       "    <tr>\n",
       "      <th>796</th>\n",
       "      <td>[[[4366.794922, 4362.179688, 4349.615234, 4352...</td>\n",
       "      <td>20</td>\n",
       "    </tr>\n",
       "    <tr>\n",
       "      <th>797</th>\n",
       "      <td>[[[4356.922852, 4356.153809, 4357.307617, 4356...</td>\n",
       "      <td>20</td>\n",
       "    </tr>\n",
       "    <tr>\n",
       "      <th>798</th>\n",
       "      <td>[[[4346.282227, 4352.179688, 4356.153809, 4354...</td>\n",
       "      <td>20</td>\n",
       "    </tr>\n",
       "    <tr>\n",
       "      <th>799</th>\n",
       "      <td>[[[4347.307617, 4342.563965, 4344.358887, 4345...</td>\n",
       "      <td>20</td>\n",
       "    </tr>\n",
       "  </tbody>\n",
       "</table>\n",
       "<p>800 rows × 2 columns</p>\n",
       "</div>"
      ],
      "text/plain": [
       "                                              EEG_Data  Label\n",
       "0    [[[4344.743652, 4346.410156, 4336.794922, 4325...     10\n",
       "1    [[[4315.512695, 4308.205078, 4309.358887, 4314...     11\n",
       "2    [[[4341.794922, 4335.128418, 4324.358887, 4333...     11\n",
       "3    [[[4289.487305, 4295.769043, 4301.538574, 4298...     11\n",
       "4    [[[4466.794922, 4470.641113, 4477.179688, 4477...     11\n",
       "..                                                 ...    ...\n",
       "795  [[[4410.0, 4408.846191, 4403.589844, 4392.1796...     20\n",
       "796  [[[4366.794922, 4362.179688, 4349.615234, 4352...     20\n",
       "797  [[[4356.922852, 4356.153809, 4357.307617, 4356...     20\n",
       "798  [[[4346.282227, 4352.179688, 4356.153809, 4354...     20\n",
       "799  [[[4347.307617, 4342.563965, 4344.358887, 4345...     20\n",
       "\n",
       "[800 rows x 2 columns]"
      ]
     },
     "execution_count": 12,
     "metadata": {},
     "output_type": "execute_result"
    }
   ],
   "source": [
    "listen_df"
   ]
  },
  {
   "cell_type": "code",
   "execution_count": 13,
   "id": "a8c84939-e94f-4259-8fd5-341695130947",
   "metadata": {},
   "outputs": [
    {
     "name": "stdout",
     "output_type": "stream",
     "text": [
      "Missing values in demo_df: EEG_Data    0\n",
      "Label       0\n",
      "dtype: int64\n",
      "Missing values in listen_df: EEG_Data    0\n",
      "Label       0\n",
      "dtype: int64\n"
     ]
    }
   ],
   "source": [
    "#check for missing values\n",
    "print(\"Missing values in demo_df:\", demo_df.isnull().sum())\n",
    "print(\"Missing values in listen_df:\", listen_df.isnull().sum())"
   ]
  },
  {
   "cell_type": "code",
   "execution_count": 21,
   "id": "98a12a4a-f1b3-481c-8247-88006d2d0d18",
   "metadata": {},
   "outputs": [],
   "source": [
    "from sklearn.base import BaseEstimator, TransformerMixin\n",
    "from sklearn.preprocessing import StandardScaler, OneHotEncoder\n",
    "from sklearn.compose import ColumnTransformer\n",
    "from sklearn.pipeline import Pipeline\n",
    "\n",
    "\n",
    "# Custom transformer for EEG data scaling\n",
    "class EEGScaler2D(BaseEstimator, TransformerMixin):\n",
    "    def __init__(self):\n",
    "        self.scaler = StandardScaler()\n",
    "    \n",
    "    def fit(self, X, y=None):\n",
    "        return self\n",
    "    \n",
    "    def transform(self, X, y=None):\n",
    "        # Convert input to a numpy array\n",
    "        X_arr = np.array(X.tolist())\n",
    "        \n",
    "        # Reshape the data for scaling\n",
    "        X_reshaped = X_arr.reshape(X_arr.shape[0], -1)\n",
    "        \n",
    "        # Scale the data\n",
    "        X_scaled = self.scaler.fit_transform(X_reshaped)\n",
    "        \n",
    "        # Return the scaled data as 2D\n",
    "        return X_scaled\n",
    "\n"
   ]
  },
  {
   "cell_type": "code",
   "execution_count": 22,
   "id": "2642659f-ed22-4c47-b2c5-093512568c55",
   "metadata": {},
   "outputs": [],
   "source": [
    "# Create the column transformer\n",
    "#Since our data is Categorical, conversion of labels to one-hot encoding(creating binary columns to represent our labels) will better suit training on an RNN model\n",
    "#this file uses a sklearn preprocessing pipeline \n",
    "preprocessor = ColumnTransformer(\n",
    "    transformers=[\n",
    "        ('eeg', EEGScaler2D(), 'EEG_Data'),\n",
    "        ('label', OneHotEncoder(), ['Label'])\n",
    "    ],\n",
    "    remainder='passthrough'\n",
    ")\n"
   ]
  },
  {
   "cell_type": "code",
   "execution_count": 23,
   "id": "f3cea285-c205-4dc4-abd2-48f0e9541006",
   "metadata": {},
   "outputs": [
    {
     "data": {
      "text/html": [
       "<style>#sk-container-id-2 {color: black;}#sk-container-id-2 pre{padding: 0;}#sk-container-id-2 div.sk-toggleable {background-color: white;}#sk-container-id-2 label.sk-toggleable__label {cursor: pointer;display: block;width: 100%;margin-bottom: 0;padding: 0.3em;box-sizing: border-box;text-align: center;}#sk-container-id-2 label.sk-toggleable__label-arrow:before {content: \"▸\";float: left;margin-right: 0.25em;color: #696969;}#sk-container-id-2 label.sk-toggleable__label-arrow:hover:before {color: black;}#sk-container-id-2 div.sk-estimator:hover label.sk-toggleable__label-arrow:before {color: black;}#sk-container-id-2 div.sk-toggleable__content {max-height: 0;max-width: 0;overflow: hidden;text-align: left;background-color: #f0f8ff;}#sk-container-id-2 div.sk-toggleable__content pre {margin: 0.2em;color: black;border-radius: 0.25em;background-color: #f0f8ff;}#sk-container-id-2 input.sk-toggleable__control:checked~div.sk-toggleable__content {max-height: 200px;max-width: 100%;overflow: auto;}#sk-container-id-2 input.sk-toggleable__control:checked~label.sk-toggleable__label-arrow:before {content: \"▾\";}#sk-container-id-2 div.sk-estimator input.sk-toggleable__control:checked~label.sk-toggleable__label {background-color: #d4ebff;}#sk-container-id-2 div.sk-label input.sk-toggleable__control:checked~label.sk-toggleable__label {background-color: #d4ebff;}#sk-container-id-2 input.sk-hidden--visually {border: 0;clip: rect(1px 1px 1px 1px);clip: rect(1px, 1px, 1px, 1px);height: 1px;margin: -1px;overflow: hidden;padding: 0;position: absolute;width: 1px;}#sk-container-id-2 div.sk-estimator {font-family: monospace;background-color: #f0f8ff;border: 1px dotted black;border-radius: 0.25em;box-sizing: border-box;margin-bottom: 0.5em;}#sk-container-id-2 div.sk-estimator:hover {background-color: #d4ebff;}#sk-container-id-2 div.sk-parallel-item::after {content: \"\";width: 100%;border-bottom: 1px solid gray;flex-grow: 1;}#sk-container-id-2 div.sk-label:hover label.sk-toggleable__label {background-color: #d4ebff;}#sk-container-id-2 div.sk-serial::before {content: \"\";position: absolute;border-left: 1px solid gray;box-sizing: border-box;top: 0;bottom: 0;left: 50%;z-index: 0;}#sk-container-id-2 div.sk-serial {display: flex;flex-direction: column;align-items: center;background-color: white;padding-right: 0.2em;padding-left: 0.2em;position: relative;}#sk-container-id-2 div.sk-item {position: relative;z-index: 1;}#sk-container-id-2 div.sk-parallel {display: flex;align-items: stretch;justify-content: center;background-color: white;position: relative;}#sk-container-id-2 div.sk-item::before, #sk-container-id-2 div.sk-parallel-item::before {content: \"\";position: absolute;border-left: 1px solid gray;box-sizing: border-box;top: 0;bottom: 0;left: 50%;z-index: -1;}#sk-container-id-2 div.sk-parallel-item {display: flex;flex-direction: column;z-index: 1;position: relative;background-color: white;}#sk-container-id-2 div.sk-parallel-item:first-child::after {align-self: flex-end;width: 50%;}#sk-container-id-2 div.sk-parallel-item:last-child::after {align-self: flex-start;width: 50%;}#sk-container-id-2 div.sk-parallel-item:only-child::after {width: 0;}#sk-container-id-2 div.sk-dashed-wrapped {border: 1px dashed gray;margin: 0 0.4em 0.5em 0.4em;box-sizing: border-box;padding-bottom: 0.4em;background-color: white;}#sk-container-id-2 div.sk-label label {font-family: monospace;font-weight: bold;display: inline-block;line-height: 1.2em;}#sk-container-id-2 div.sk-label-container {text-align: center;}#sk-container-id-2 div.sk-container {/* jupyter's `normalize.less` sets `[hidden] { display: none; }` but bootstrap.min.css set `[hidden] { display: none !important; }` so we also need the `!important` here to be able to override the default hidden behavior on the sphinx rendered scikit-learn.org. See: https://github.com/scikit-learn/scikit-learn/issues/21755 */display: inline-block !important;position: relative;}#sk-container-id-2 div.sk-text-repr-fallback {display: none;}</style><div id=\"sk-container-id-2\" class=\"sk-top-container\"><div class=\"sk-text-repr-fallback\"><pre>Pipeline(steps=[(&#x27;preprocessor&#x27;,\n",
       "                 ColumnTransformer(remainder=&#x27;passthrough&#x27;,\n",
       "                                   transformers=[(&#x27;eeg&#x27;, EEGScaler2D(),\n",
       "                                                  &#x27;EEG_Data&#x27;),\n",
       "                                                 (&#x27;label&#x27;, OneHotEncoder(),\n",
       "                                                  [&#x27;Label&#x27;])]))])</pre><b>In a Jupyter environment, please rerun this cell to show the HTML representation or trust the notebook. <br />On GitHub, the HTML representation is unable to render, please try loading this page with nbviewer.org.</b></div><div class=\"sk-container\" hidden><div class=\"sk-item sk-dashed-wrapped\"><div class=\"sk-label-container\"><div class=\"sk-label sk-toggleable\"><input class=\"sk-toggleable__control sk-hidden--visually\" id=\"sk-estimator-id-9\" type=\"checkbox\" ><label for=\"sk-estimator-id-9\" class=\"sk-toggleable__label sk-toggleable__label-arrow\">Pipeline</label><div class=\"sk-toggleable__content\"><pre>Pipeline(steps=[(&#x27;preprocessor&#x27;,\n",
       "                 ColumnTransformer(remainder=&#x27;passthrough&#x27;,\n",
       "                                   transformers=[(&#x27;eeg&#x27;, EEGScaler2D(),\n",
       "                                                  &#x27;EEG_Data&#x27;),\n",
       "                                                 (&#x27;label&#x27;, OneHotEncoder(),\n",
       "                                                  [&#x27;Label&#x27;])]))])</pre></div></div></div><div class=\"sk-serial\"><div class=\"sk-item sk-dashed-wrapped\"><div class=\"sk-label-container\"><div class=\"sk-label sk-toggleable\"><input class=\"sk-toggleable__control sk-hidden--visually\" id=\"sk-estimator-id-10\" type=\"checkbox\" ><label for=\"sk-estimator-id-10\" class=\"sk-toggleable__label sk-toggleable__label-arrow\">preprocessor: ColumnTransformer</label><div class=\"sk-toggleable__content\"><pre>ColumnTransformer(remainder=&#x27;passthrough&#x27;,\n",
       "                  transformers=[(&#x27;eeg&#x27;, EEGScaler2D(), &#x27;EEG_Data&#x27;),\n",
       "                                (&#x27;label&#x27;, OneHotEncoder(), [&#x27;Label&#x27;])])</pre></div></div></div><div class=\"sk-parallel\"><div class=\"sk-parallel-item\"><div class=\"sk-item\"><div class=\"sk-label-container\"><div class=\"sk-label sk-toggleable\"><input class=\"sk-toggleable__control sk-hidden--visually\" id=\"sk-estimator-id-11\" type=\"checkbox\" ><label for=\"sk-estimator-id-11\" class=\"sk-toggleable__label sk-toggleable__label-arrow\">eeg</label><div class=\"sk-toggleable__content\"><pre>EEG_Data</pre></div></div></div><div class=\"sk-serial\"><div class=\"sk-item\"><div class=\"sk-estimator sk-toggleable\"><input class=\"sk-toggleable__control sk-hidden--visually\" id=\"sk-estimator-id-12\" type=\"checkbox\" ><label for=\"sk-estimator-id-12\" class=\"sk-toggleable__label sk-toggleable__label-arrow\">EEGScaler2D</label><div class=\"sk-toggleable__content\"><pre>EEGScaler2D()</pre></div></div></div></div></div></div><div class=\"sk-parallel-item\"><div class=\"sk-item\"><div class=\"sk-label-container\"><div class=\"sk-label sk-toggleable\"><input class=\"sk-toggleable__control sk-hidden--visually\" id=\"sk-estimator-id-13\" type=\"checkbox\" ><label for=\"sk-estimator-id-13\" class=\"sk-toggleable__label sk-toggleable__label-arrow\">label</label><div class=\"sk-toggleable__content\"><pre>[&#x27;Label&#x27;]</pre></div></div></div><div class=\"sk-serial\"><div class=\"sk-item\"><div class=\"sk-estimator sk-toggleable\"><input class=\"sk-toggleable__control sk-hidden--visually\" id=\"sk-estimator-id-14\" type=\"checkbox\" ><label for=\"sk-estimator-id-14\" class=\"sk-toggleable__label sk-toggleable__label-arrow\">OneHotEncoder</label><div class=\"sk-toggleable__content\"><pre>OneHotEncoder()</pre></div></div></div></div></div></div><div class=\"sk-parallel-item\"><div class=\"sk-item\"><div class=\"sk-label-container\"><div class=\"sk-label sk-toggleable\"><input class=\"sk-toggleable__control sk-hidden--visually\" id=\"sk-estimator-id-15\" type=\"checkbox\" ><label for=\"sk-estimator-id-15\" class=\"sk-toggleable__label sk-toggleable__label-arrow\">remainder</label><div class=\"sk-toggleable__content\"><pre></pre></div></div></div><div class=\"sk-serial\"><div class=\"sk-item\"><div class=\"sk-estimator sk-toggleable\"><input class=\"sk-toggleable__control sk-hidden--visually\" id=\"sk-estimator-id-16\" type=\"checkbox\" ><label for=\"sk-estimator-id-16\" class=\"sk-toggleable__label sk-toggleable__label-arrow\">passthrough</label><div class=\"sk-toggleable__content\"><pre>passthrough</pre></div></div></div></div></div></div></div></div></div></div></div></div>"
      ],
      "text/plain": [
       "Pipeline(steps=[('preprocessor',\n",
       "                 ColumnTransformer(remainder='passthrough',\n",
       "                                   transformers=[('eeg', EEGScaler2D(),\n",
       "                                                  'EEG_Data'),\n",
       "                                                 ('label', OneHotEncoder(),\n",
       "                                                  ['Label'])]))])"
      ]
     },
     "execution_count": 23,
     "metadata": {},
     "output_type": "execute_result"
    }
   ],
   "source": [
    "# Create the pipeline\n",
    "pipeline = Pipeline([\n",
    "    ('preprocessor', preprocessor)\n",
    "])\n",
    "\n",
    "pipeline"
   ]
  },
  {
   "cell_type": "code",
   "execution_count": 24,
   "id": "cf7f4287-6673-4112-acec-8b7d24ac6ea6",
   "metadata": {},
   "outputs": [],
   "source": [
    "#apply normalization #altered for sklearn\n",
    "# Applying pipeline\n",
    "demo_processed = pipeline.fit_transform(demo_df)\n",
    "listen_processed = pipeline.fit_transform(listen_df)\n",
    "\n",
    "# Extracting EEG data and one-hot encoded labels\n",
    "demo_eeg_data = [item[0] for item in demo_processed]\n",
    "demo_labels_encoded = [item[1:] for item in demo_processed]\n",
    "\n",
    "listen_eeg_data = [item[0] for item in listen_processed]\n",
    "listen_labels_encoded = [item[1:] for item in listen_processed]\n"
   ]
  },
  {
   "cell_type": "code",
   "execution_count": 31,
   "id": "a1a75ba0-65ff-430c-be52-e76ff243acd6",
   "metadata": {},
   "outputs": [
    {
     "name": "stdout",
     "output_type": "stream",
     "text": [
      "Shape of demo_data_array: (800, 1, 14, 1920)\n",
      "Shape of listen_data_array: (800, 1, 14, 1920)\n"
     ]
    }
   ],
   "source": [
    "# Convert to a numpy array\n",
    "demo_data_array = np.array(demo_df['EEG_Data'].tolist())\n",
    "listen_data_array = np.array(listen_df['EEG_Data'].tolist())\n",
    "\n",
    "print(\"Shape of demo_data_array:\", demo_data_array.shape)\n",
    "print(\"Shape of listen_data_array:\", listen_data_array.shape)"
   ]
  },
  {
   "cell_type": "code",
   "execution_count": 32,
   "id": "d2027a63-1a9d-4e93-b6f0-44d2badd8830",
   "metadata": {},
   "outputs": [
    {
     "name": "stdout",
     "output_type": "stream",
     "text": [
      "Shape of demo_data_reshaped: (800, 14, 1920)\n",
      "Shape of listen_data_reshaped: (800, 14, 1920)\n"
     ]
    }
   ],
   "source": [
    "# Removing the unnecessary dimension to fit (number_of_samples, channels, time_points).\n",
    "demo_data_reshaped = np.squeeze(demo_data_array)\n",
    "listen_data_reshaped = np.squeeze(listen_data_array)\n",
    "\n",
    "print(\"Shape of demo_data_reshaped:\", demo_data_reshaped.shape)\n",
    "print(\"Shape of listen_data_reshaped:\", listen_data_reshaped.shape)"
   ]
  },
  {
   "cell_type": "code",
   "execution_count": 27,
   "id": "e70d8f00-51bc-4cf9-a8a0-96064012dcf3",
   "metadata": {},
   "outputs": [],
   "source": [
    "# now split the data into training and test splits for model training and validation \n",
    "from sklearn.model_selection import train_test_split"
   ]
  },
  {
   "cell_type": "code",
   "execution_count": 28,
   "id": "c43f5835-d230-4103-881f-c0501f9de22a",
   "metadata": {},
   "outputs": [
    {
     "name": "stdout",
     "output_type": "stream",
     "text": [
      "Demo Training Data Shape: (480, 14, 1920)\n",
      "Demo Validation Data Shape: (160, 14, 1920)\n",
      "Demo Test Data Shape: (160, 14, 1920)\n",
      "\n",
      "Listening Training Data Shape: (480, 14, 1920)\n",
      "Listening Validation Data Shape: (160, 14, 1920)\n",
      "Listening Test Data Shape: (160, 14, 1920)\n"
     ]
    }
   ],
   "source": [
    "    \"\"\"\n",
    "    Args:\n",
    "    - X: The features (EEG data).\n",
    "    - y: The labels.\n",
    "    - test_size: Proportion of the dataset to include in the test split.\n",
    "    - val_size: Proportion of the dataset to include in the validation split (from the training set).\n",
    "    \n",
    "    Returns:\n",
    "    - X_train, y_train: Training data and labels.\n",
    "    - X_val, y_val: Validation data and labels.\n",
    "    - X_test, y_test: Test data and labels.\n",
    "    \"\"\"\n",
    "\n",
    "def split_data(X, y, test_size=0.2, val_size=0.25):\n",
    "        X_temp, X_test, y_temp, y_test = train_test_split(X, y, test_size=test_size, random_state=42)\n",
    "        X_train, X_val, y_train, y_val = train_test_split(X_temp, y_temp, test_size=val_size, random_state=42)\n",
    "        return X_train, y_train, X_val, y_val, X_test, y_test\n",
    "\n",
    "demo_labels = demo_df['Label'].values\n",
    "listen_labels = listen_df['Label'].values\n",
    "\n",
    "demo_X_train, demo_y_train, demo_X_val, demo_y_val, demo_X_test, demo_y_test = split_data(demo_data_reshaped, demo_labels)\n",
    "listen_X_train, listen_y_train, listen_X_val, listen_y_val, listen_X_test, listen_y_test = split_data(listen_data_reshaped, listen_labels)\n",
    "\n",
    "print(\"Demo Training Data Shape:\", demo_X_train.shape)\n",
    "print(\"Demo Validation Data Shape:\", demo_X_val.shape)\n",
    "print(\"Demo Test Data Shape:\", demo_X_test.shape)\n",
    "print(\"\\nListening Training Data Shape:\", listen_X_train.shape)\n",
    "print(\"Listening Validation Data Shape:\", listen_X_val.shape)\n",
    "print(\"Listening Test Data Shape:\", listen_X_test.shape)\n"
   ]
  },
  {
   "cell_type": "code",
   "execution_count": null,
   "id": "8872e699-8a0f-4b78-a039-e094d47868bd",
   "metadata": {},
   "outputs": [],
   "source": []
  }
 ],
 "metadata": {
  "kernelspec": {
   "display_name": "Python 3 (ipykernel)",
   "language": "python",
   "name": "python3"
  },
  "language_info": {
   "codemirror_mode": {
    "name": "ipython",
    "version": 3
   },
   "file_extension": ".py",
   "mimetype": "text/x-python",
   "name": "python",
   "nbconvert_exporter": "python",
   "pygments_lexer": "ipython3",
   "version": "3.11.4"
  }
 },
 "nbformat": 4,
 "nbformat_minor": 5
}
